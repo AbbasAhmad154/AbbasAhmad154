{
  "nbformat": 4,
  "nbformat_minor": 0,
  "metadata": {
    "colab": {
      "provenance": [],
      "authorship_tag": "ABX9TyPvTTqp/taBYsvG7BSSO20v",
      "include_colab_link": true
    },
    "kernelspec": {
      "name": "python3",
      "display_name": "Python 3"
    },
    "language_info": {
      "name": "python"
    }
  },
  "cells": [
    {
      "cell_type": "markdown",
      "metadata": {
        "id": "view-in-github",
        "colab_type": "text"
      },
      "source": [
        "<a href=\"https://colab.research.google.com/github/AbbasAhmad154/AbbasAhmad154/blob/main/Assignment_02_Basics_of_Python.ipynb\" target=\"_parent\"><img src=\"https://colab.research.google.com/assets/colab-badge.svg\" alt=\"Open In Colab\"/></a>"
      ]
    },
    {
      "cell_type": "markdown",
      "source": [
        "# **Name : Abbas Ahmad**\n",
        "# **Assignment 02 Advanced AI**\n",
        "# **City : Swabi KPK**\n",
        "# **Email : aa6057467@gmail.com**\n"
      ],
      "metadata": {
        "id": "s6-fZ_sXhecX"
      }
    },
    {
      "cell_type": "markdown",
      "source": [
        "# 1. Count Vowels and Consonants:\n"
      ],
      "metadata": {
        "id": "N46JlwN-c9w9"
      }
    },
    {
      "cell_type": "code",
      "source": [
        "def count_vowels_consonants(string):\n",
        "    vowels = \"aeiouAEIOU\"\n",
        "    vowel_count = sum(1 for char in string if char in vowels)\n",
        "    consonant_count = sum(1 for char in string if char.isalpha() and char not in vowels)\n",
        "    print(\"Number of vowels:\", vowel_count)\n",
        "    print(\"Number of consonants:\", consonant_count)\n",
        "\n",
        "count_vowels_consonants(\"Hello, World!\")\n"
      ],
      "metadata": {
        "colab": {
          "base_uri": "https://localhost:8080/"
        },
        "id": "Do6AgdOrdEAT",
        "outputId": "0fe5c57e-132e-4d67-ed1d-ffa773dc1748"
      },
      "execution_count": 5,
      "outputs": [
        {
          "output_type": "stream",
          "name": "stdout",
          "text": [
            "Number of vowels: 3\n",
            "Number of consonants: 7\n"
          ]
        }
      ]
    },
    {
      "cell_type": "markdown",
      "source": [
        "# 2. File Extension:"
      ],
      "metadata": {
        "id": "sAU9xi2gdJaj"
      }
    },
    {
      "cell_type": "code",
      "source": [
        "#filename = input(\"Enter the filename: \")\n",
        "#extension = filename.split('.')[-1]\n",
        "#print(\"File extension:\", extension)\n"
      ],
      "metadata": {
        "id": "xvLQt9xmdN0K"
      },
      "execution_count": 4,
      "outputs": []
    },
    {
      "cell_type": "markdown",
      "source": [
        "# 3. Check Value in Dictionary:"
      ],
      "metadata": {
        "id": "93HEY0P0dSTR"
      }
    },
    {
      "cell_type": "code",
      "source": [
        "sample_dict = {'a': 100, 'b': 200, 'c': 300}\n",
        "print(\"200 exists in dictionary:\", 200 in sample_dict.values())\n"
      ],
      "metadata": {
        "colab": {
          "base_uri": "https://localhost:8080/"
        },
        "id": "BBAST0GUdW1C",
        "outputId": "594cd818-1e77-4955-cf44-a31f60c099d0"
      },
      "execution_count": 6,
      "outputs": [
        {
          "output_type": "stream",
          "name": "stdout",
          "text": [
            "200 exists in dictionary: True\n"
          ]
        }
      ]
    },
    {
      "cell_type": "markdown",
      "source": [
        "# 4. Access Nested Tuple Value:"
      ],
      "metadata": {
        "id": "MiY3or8Udcy7"
      }
    },
    {
      "cell_type": "code",
      "source": [
        "tuple1 = (\"Orange\", [10, 20, 30], (5, 15, 25))\n",
        "print(\"Value:\", tuple1[1][1])\n"
      ],
      "metadata": {
        "colab": {
          "base_uri": "https://localhost:8080/"
        },
        "id": "tIwE1ZFPdhiS",
        "outputId": "24af32a5-4ec0-4508-82d2-d60938b15b4d"
      },
      "execution_count": 7,
      "outputs": [
        {
          "output_type": "stream",
          "name": "stdout",
          "text": [
            "Value: 20\n"
          ]
        }
      ]
    },
    {
      "cell_type": "markdown",
      "source": [
        "# 5. Calculate BMI:"
      ],
      "metadata": {
        "id": "z-Jfsdtedqkh"
      }
    },
    {
      "cell_type": "code",
      "source": [
        "weight = float(input(\"Enter weight (kg): \"))\n",
        "height = float(input(\"Enter height (m): \"))\n",
        "bmi = weight / (height ** 2)\n",
        "print(\"BMI:\", bmi)\n",
        "\n",
        "if bmi < 18.5:\n",
        "    print(\"Underweight\")\n",
        "elif 18.5 <= bmi < 25:\n",
        "    print(\"Normal weight\")\n",
        "elif 25 <= bmi < 30:\n",
        "    print(\"Overweight\")\n",
        "else:\n",
        "    print(\"Obese\")\n"
      ],
      "metadata": {
        "colab": {
          "base_uri": "https://localhost:8080/"
        },
        "id": "ZYEUQfw2dwjz",
        "outputId": "581cd8d0-df1c-4d7e-bca6-6697f374b205"
      },
      "execution_count": 8,
      "outputs": [
        {
          "output_type": "stream",
          "name": "stdout",
          "text": [
            "Enter weight (kg): 50\n",
            "Enter height (m): 5\n",
            "BMI: 2.0\n",
            "Underweight\n"
          ]
        }
      ]
    },
    {
      "cell_type": "markdown",
      "source": [
        "# 6. Character Frequency in String:"
      ],
      "metadata": {
        "id": "kTGVJRutdztr"
      }
    },
    {
      "cell_type": "code",
      "source": [
        "string = input(\"Enter a string: \")\n",
        "freq = {char: string.count(char) for char in set(string)}\n",
        "print(freq)\n"
      ],
      "metadata": {
        "colab": {
          "base_uri": "https://localhost:8080/"
        },
        "id": "YcBneQbtd5wM",
        "outputId": "8ca43f4e-c22d-452c-ebd4-ddf5178968d8"
      },
      "execution_count": 9,
      "outputs": [
        {
          "output_type": "stream",
          "name": "stdout",
          "text": [
            "Enter a string: q\n",
            "{'q': 1}\n"
          ]
        }
      ]
    },
    {
      "cell_type": "markdown",
      "source": [
        "# 7. Check Valid Email Address:"
      ],
      "metadata": {
        "id": "cK6MSMrjd778"
      }
    },
    {
      "cell_type": "code",
      "source": [
        "email = input(\"Enter an email address: \")\n",
        "if \"@\" in email and (email.endswith(\".com\") or email.endswith(\".net\")):\n",
        "    print(\"Valid email address\")\n",
        "else:\n",
        "    print(\"Invalid email address\")\n"
      ],
      "metadata": {
        "colab": {
          "base_uri": "https://localhost:8080/"
        },
        "id": "XI_yMV-veA_s",
        "outputId": "8aa76d24-fe0a-4243-c8a0-7b5978637efc"
      },
      "execution_count": 10,
      "outputs": [
        {
          "output_type": "stream",
          "name": "stdout",
          "text": [
            "Enter an email address: aa2mwjgmail.com\n",
            "Invalid email address\n"
          ]
        }
      ]
    },
    {
      "cell_type": "markdown",
      "source": [
        "# 8. Sum of Elements in Each Inner Tuple:"
      ],
      "metadata": {
        "id": "Y7Ig5PkyeD4r"
      }
    },
    {
      "cell_type": "code",
      "source": [
        "tuples = ((1, 2, 3), (4, 5, 6), (7, 8, 9))\n",
        "sums = [sum(inner) for inner in tuples]\n",
        "print(\", \".join(map(str, sums)))\n"
      ],
      "metadata": {
        "colab": {
          "base_uri": "https://localhost:8080/"
        },
        "id": "a-LhTeneeIWx",
        "outputId": "52a2f325-7933-48e5-bdee-75ca2101ebba"
      },
      "execution_count": 11,
      "outputs": [
        {
          "output_type": "stream",
          "name": "stdout",
          "text": [
            "6, 15, 24\n"
          ]
        }
      ]
    },
    {
      "cell_type": "markdown",
      "source": [
        "# 9. First Three Prime Numbers:"
      ],
      "metadata": {
        "id": "m8NCZQq2eLwh"
      }
    },
    {
      "cell_type": "code",
      "source": [
        "numbers = [2, 3, 4, 5, 6, 7, 8, 9, 10, 11]\n",
        "primes = [num for num in numbers if all(num % i != 0 for i in range(2, int(num**0.5) + 1))]\n",
        "print(\"List of the first three prime numbers:\", primes[:3])\n"
      ],
      "metadata": {
        "colab": {
          "base_uri": "https://localhost:8080/"
        },
        "id": "1foQ437ueTFp",
        "outputId": "a467289d-7f3f-4146-d6c9-0ab80deb0b78"
      },
      "execution_count": 12,
      "outputs": [
        {
          "output_type": "stream",
          "name": "stdout",
          "text": [
            "List of the first three prime numbers: [2, 3, 5]\n"
          ]
        }
      ]
    },
    {
      "cell_type": "markdown",
      "source": [
        "# 10. Sort Students by Grades:"
      ],
      "metadata": {
        "id": "Brk1rn91eVe6"
      }
    },
    {
      "cell_type": "code",
      "source": [
        "students = [\n",
        "    {\"name\": \"John\", \"age\": 20, \"grade\": 85},\n",
        "    {\"name\": \"Alice\", \"age\": 22, \"grade\": 90},\n",
        "    {\"name\": \"Bob\", \"age\": 21, \"grade\": 80}\n",
        "]\n",
        "sorted_students = sorted(students, key=lambda x: x[\"grade\"], reverse=True)\n",
        "print(sorted_students)\n"
      ],
      "metadata": {
        "colab": {
          "base_uri": "https://localhost:8080/"
        },
        "id": "b58gRTbSeaYb",
        "outputId": "8ad39bee-ab1e-4638-e918-7cb3798caca8"
      },
      "execution_count": 13,
      "outputs": [
        {
          "output_type": "stream",
          "name": "stdout",
          "text": [
            "[{'name': 'Alice', 'age': 22, 'grade': 90}, {'name': 'John', 'age': 20, 'grade': 85}, {'name': 'Bob', 'age': 21, 'grade': 80}]\n"
          ]
        }
      ]
    },
    {
      "cell_type": "markdown",
      "source": [
        "# 11. Unique Values in List:"
      ],
      "metadata": {
        "id": "5XD9HLuOedpC"
      }
    },
    {
      "cell_type": "code",
      "source": [
        "numbers = list(map(int, input(\"Enter numbers separated by commas: \").split(',')))\n",
        "unique_values = list(set(numbers))\n",
        "print(\"Total number of unique values:\", len(unique_values))\n",
        "print(\"Unique values in the list:\", unique_values)\n"
      ],
      "metadata": {
        "colab": {
          "base_uri": "https://localhost:8080/"
        },
        "id": "8McciWX2elQE",
        "outputId": "877c0371-494f-4213-8ccb-693ffa90578e"
      },
      "execution_count": 14,
      "outputs": [
        {
          "output_type": "stream",
          "name": "stdout",
          "text": [
            "Enter numbers separated by commas: 1,2,3,4\n",
            "Total number of unique values: 4\n",
            "Unique values in the list: [1, 2, 3, 4]\n"
          ]
        }
      ]
    },
    {
      "cell_type": "markdown",
      "source": [
        "# 12. Common Elements in Two Lists:"
      ],
      "metadata": {
        "id": "XEhccBJ2enyB"
      }
    },
    {
      "cell_type": "code",
      "source": [
        "list1 = [1, 2, 3, 4, 5]\n",
        "list2 = [4, 5, 6, 7, 8]\n",
        "common_elements = [x for x in list1 if x in list2]\n",
        "print(\"Common Elements:\", common_elements)\n"
      ],
      "metadata": {
        "colab": {
          "base_uri": "https://localhost:8080/"
        },
        "id": "tOJnvZvIesWG",
        "outputId": "e53c74ea-5b4d-44ed-92e0-5d4da5ab7dcc"
      },
      "execution_count": 15,
      "outputs": [
        {
          "output_type": "stream",
          "name": "stdout",
          "text": [
            "Common Elements: [4, 5]\n"
          ]
        }
      ]
    },
    {
      "cell_type": "markdown",
      "source": [
        "# 13. Merge Dictionaries:"
      ],
      "metadata": {
        "id": "yFbFgTSuex_p"
      }
    },
    {
      "cell_type": "code",
      "source": [
        "dict1 = {'a': 5, 'b': 10, 'c': 15}\n",
        "dict2 = {'b': 20, 'c': 25, 'd': 30}\n",
        "merged_dict = {k: dict1.get(k, 0) + dict2.get(k, 0) for k in set(dict1) | set(dict2)}\n",
        "print(merged_dict)\n"
      ],
      "metadata": {
        "colab": {
          "base_uri": "https://localhost:8080/"
        },
        "id": "hqQiyukne5Ns",
        "outputId": "e0fc0ee0-e7d7-4f22-923b-71a0a74059d7"
      },
      "execution_count": 16,
      "outputs": [
        {
          "output_type": "stream",
          "name": "stdout",
          "text": [
            "{'b': 30, 'c': 40, 'a': 5, 'd': 30}\n"
          ]
        }
      ]
    },
    {
      "cell_type": "markdown",
      "source": [
        "# 14. Power Calculation:"
      ],
      "metadata": {
        "id": "7okq-GH8e8bn"
      }
    },
    {
      "cell_type": "code",
      "source": [
        "base = int(input(\"Enter the base: \"))\n",
        "exponent = int(input(\"Enter the exponent: \"))\n",
        "print(\"Result:\", base ** exponent)\n"
      ],
      "metadata": {
        "colab": {
          "base_uri": "https://localhost:8080/"
        },
        "id": "XYocvFnefBHM",
        "outputId": "6b9ffe4b-3647-4a49-fe3e-1caba253ed82"
      },
      "execution_count": 17,
      "outputs": [
        {
          "output_type": "stream",
          "name": "stdout",
          "text": [
            "Enter the base: 2\n",
            "Enter the exponent: 2\n",
            "Result: 4\n"
          ]
        }
      ]
    },
    {
      "cell_type": "markdown",
      "source": [
        "# 15. Celsius to Fahrenheit:\n",
        "\n"
      ],
      "metadata": {
        "id": "8QtZ_vekfGcu"
      }
    },
    {
      "cell_type": "code",
      "source": [
        "celsius = float(input(\"Enter temperature in Celsius: \"))\n",
        "fahrenheit = (celsius * 9/5) + 32\n",
        "print(\"Temperature in Fahrenheit:\", fahrenheit)\n"
      ],
      "metadata": {
        "colab": {
          "base_uri": "https://localhost:8080/"
        },
        "id": "Ll1YCRn9fOH4",
        "outputId": "05f27963-db76-4f15-a6f4-2d3e611a30f0"
      },
      "execution_count": 18,
      "outputs": [
        {
          "output_type": "stream",
          "name": "stdout",
          "text": [
            "Enter temperature in Celsius: 37\n",
            "Temperature in Fahrenheit: 98.6\n"
          ]
        }
      ]
    },
    {
      "cell_type": "markdown",
      "source": [
        "# 16. Reverse List Without Built-in Functions:"
      ],
      "metadata": {
        "id": "LuJgt7aAfUSX"
      }
    },
    {
      "cell_type": "code",
      "source": [
        "lst = [1, 2, 3, 4, 5]\n",
        "reversed_lst = []\n",
        "for i in range(len(lst)-1, -1, -1):\n",
        "    reversed_lst.append(lst[i])\n",
        "print(\"Reversed List:\", reversed_lst)\n"
      ],
      "metadata": {
        "colab": {
          "base_uri": "https://localhost:8080/"
        },
        "id": "_RnvSEFafazX",
        "outputId": "8fd380dc-eb30-4f6f-c0db-732a49644476"
      },
      "execution_count": 19,
      "outputs": [
        {
          "output_type": "stream",
          "name": "stdout",
          "text": [
            "Reversed List: [5, 4, 3, 2, 1]\n"
          ]
        }
      ]
    },
    {
      "cell_type": "markdown",
      "source": [
        "# 17. Reverse String Without Reversing Words:"
      ],
      "metadata": {
        "id": "QbxkvfK0fdZP"
      }
    },
    {
      "cell_type": "code",
      "source": [
        "string = \"Hello World\"\n",
        "reversed_string = \" \".join(string.split()[::-1])\n",
        "print(\"Reversed String:\", reversed_string)\n"
      ],
      "metadata": {
        "colab": {
          "base_uri": "https://localhost:8080/"
        },
        "id": "JEq8HLbqfjTR",
        "outputId": "0279279f-1561-4d24-dec1-3b2aa84fbcf7"
      },
      "execution_count": 20,
      "outputs": [
        {
          "output_type": "stream",
          "name": "stdout",
          "text": [
            "Reversed String: World Hello\n"
          ]
        }
      ]
    },
    {
      "cell_type": "markdown",
      "source": [
        "# 18. Palindrome Check:"
      ],
      "metadata": {
        "id": "Vm6eopUCflin"
      }
    },
    {
      "cell_type": "code",
      "source": [
        "def is_palindrome(string):\n",
        "    return string == string[::-1]\n",
        "\n",
        "print(\"Is 'radar' a palindrome?\", is_palindrome(\"radar\"))\n"
      ],
      "metadata": {
        "colab": {
          "base_uri": "https://localhost:8080/"
        },
        "id": "kt3YRXvLfri_",
        "outputId": "16b4fc02-d59c-4591-daaf-70d307fd011c"
      },
      "execution_count": 21,
      "outputs": [
        {
          "output_type": "stream",
          "name": "stdout",
          "text": [
            "Is 'radar' a palindrome? True\n"
          ]
        }
      ]
    },
    {
      "cell_type": "markdown",
      "source": [
        "# 19. Even Numbers from List:"
      ],
      "metadata": {
        "id": "5y5V9Ip5fuCg"
      }
    },
    {
      "cell_type": "code",
      "source": [
        "numbers = [2, 5, 3, 7, 9, 53, 10, 32, 65, 76, 98]\n",
        "evens = [num for num in numbers if num % 2 == 0]\n",
        "print(\"Even numbers:\", evens)\n"
      ],
      "metadata": {
        "colab": {
          "base_uri": "https://localhost:8080/"
        },
        "id": "WB5fbpZRfyln",
        "outputId": "17f7cedc-de49-4055-8c81-80260e8643ff"
      },
      "execution_count": 22,
      "outputs": [
        {
          "output_type": "stream",
          "name": "stdout",
          "text": [
            "Even numbers: [2, 10, 32, 76, 98]\n"
          ]
        }
      ]
    },
    {
      "cell_type": "markdown",
      "source": [
        "# 20. Create Dictionary from Two Lists:"
      ],
      "metadata": {
        "id": "r6HXhF_2f1RA"
      }
    },
    {
      "cell_type": "code",
      "source": [
        "keys = ['a', 'b', 'c']\n",
        "values = [1, 2, 3]\n",
        "dictionary = dict(zip(keys, values))\n",
        "print(dictionary)\n"
      ],
      "metadata": {
        "colab": {
          "base_uri": "https://localhost:8080/"
        },
        "id": "2RGgysx4f__A",
        "outputId": "9920334f-172b-44c8-a1ba-3bedf40428a9"
      },
      "execution_count": 23,
      "outputs": [
        {
          "output_type": "stream",
          "name": "stdout",
          "text": [
            "{'a': 1, 'b': 2, 'c': 3}\n"
          ]
        }
      ]
    }
  ]
}